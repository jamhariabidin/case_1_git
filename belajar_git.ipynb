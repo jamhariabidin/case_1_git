{
  "cells": [
    {
      "cell_type": "code",
      "execution_count": 1,
      "metadata": {
        "id": "wbT7m0IlcSbY"
      },
      "outputs": [],
      "source": [
        "class MoneyMachine:\n",
        "\n",
        "    CURRENCY = \"$\"\n",
        "\n",
        "    COIN_VALUES = {\n",
        "        \"quarters\": 0.25,\n",
        "        \"dimes\": 0.10,\n",
        "        \"nickles\": 0.05,\n",
        "        \"pennies\": 0.01\n",
        "    }\n",
        "\n",
        "    def __init__(self):\n",
        "        self.profit = 0\n",
        "        self.money_received = 0\n",
        "\n",
        "    def report(self):\n",
        "        \"\"\"Prints the current profit\"\"\"\n",
        "        print(f\"Money: {self.CURRENCY}{self.profit}\")\n",
        "\n",
        "    def process_coins(self):\n",
        "        \"\"\"Returns the total calculated from coins inserted.\"\"\"\n",
        "        print(\"Please insert coins.\")\n",
        "        for coin in self.COIN_VALUES:\n",
        "            self.money_received += int(input(f\"How many {coin}?: \")) * self.COIN_VALUES[coin]\n",
        "        return self.money_received\n",
        "\n",
        "    "
      ]
    },
    {
      "cell_type": "code",
      "execution_count": null,
      "metadata": {},
      "outputs": [],
      "source": [
        "total_likes = 0\n",
        "for row in blog_posts:\n",
        "    total_likes += row [\"Likes\"]\n",
        "print(total_likes)"
      ]
    },
    {
      "cell_type": "code",
      "execution_count": null,
      "metadata": {
        "id": "xaKH61d2c5i0"
      },
      "outputs": [],
      "source": []
    }
  ],
  "metadata": {
    "colab": {
      "provenance": []
    },
    "kernelspec": {
      "display_name": "Python 3",
      "name": "python3"
    },
    "language_info": {
      "name": "python"
    }
  },
  "nbformat": 4,
  "nbformat_minor": 0
}
